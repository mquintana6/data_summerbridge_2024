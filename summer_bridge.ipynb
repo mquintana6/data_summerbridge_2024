{
 "cells": [
  {
   "cell_type": "code",
   "execution_count": null,
   "id": "f3351457-4072-4111-81cb-a6817d301973",
   "metadata": {},
   "outputs": [],
   "source": [
    "3 + 7"
   ]
  },
  {
   "cell_type": "code",
   "execution_count": null,
   "id": "d96c584c-3608-4d62-8ea7-4d3f8c4a6a27",
   "metadata": {},
   "outputs": [],
   "source": [
    "print (\"hello\")"
   ]
  },
  {
   "cell_type": "code",
   "execution_count": null,
   "id": "d9434419-2ee1-4797-be4d-9bb473c3250e",
   "metadata": {},
   "outputs": [],
   "source": [
    "print (\"7\")"
   ]
  },
  {
   "cell_type": "code",
   "execution_count": null,
   "id": "20010b81-af9f-438f-98f6-2e75493527a3",
   "metadata": {},
   "outputs": [],
   "source": [
    "name  = \"melisa\""
   ]
  },
  {
   "cell_type": "code",
   "execution_count": null,
   "id": "24ba8c52-143c-4e62-aa6f-0d895b78bc93",
   "metadata": {},
   "outputs": [],
   "source": [
    "name = \"Melisa\"\n",
    "age = 25\n",
    "print (age)"
   ]
  },
  {
   "cell_type": "code",
   "execution_count": null,
   "id": "93ab1438-0c01-4758-a011-54f43e75423a",
   "metadata": {},
   "outputs": [],
   "source": [
    "# this is a comment. It will not run\n",
    "# You can echo values without using print in this notebook\n",
    "name"
   ]
  },
  {
   "cell_type": "code",
   "execution_count": null,
   "id": "667c9129-50fb-4ba7-aa78-fdeaf79f0d54",
   "metadata": {},
   "outputs": [],
   "source": [
    "'Melisa'"
   ]
  },
  {
   "cell_type": "markdown",
   "id": "ab3fe233-0f3f-4a7f-8f28-96baec1f597c",
   "metadata": {},
   "source": [
    "# Variables and Values"
   ]
  },
  {
   "cell_type": "code",
   "execution_count": null,
   "id": "e18906dd-04ac-4b89-a242-ec4dca57b8e1",
   "metadata": {},
   "outputs": [],
   "source": [
    "# variables can be used in calculations\n",
    "print(age)\n",
    "age = age + 3\n",
    "print(age)"
   ]
  },
  {
   "cell_type": "code",
   "execution_count": null,
   "id": "bb9f85e2-878d-40f5-9d76-25d4dc94da86",
   "metadata": {},
   "outputs": [],
   "source": [
    "# order of operations matters\n",
    "first = 1\n",
    "second = first * 5\n",
    "first = 2\n",
    "\n",
    "print(first)\n",
    "print(second)"
   ]
  },
  {
   "cell_type": "code",
   "execution_count": null,
   "id": "6fb899aa-0f7c-4356-b153-0e2d9cf40d2a",
   "metadata": {},
   "outputs": [],
   "source": [
    "# Values have types. Types affect what you can do with them.\n",
    "print (5 - 3)\n",
    "print (\"hello - h\")"
   ]
  },
  {
   "cell_type": "code",
   "execution_count": null,
   "id": "e1de06f6-0d8a-47e1-9fde-18ea793662ec",
   "metadata": {},
   "outputs": [],
   "source": [
    "print(len(\"hello\"))\n",
    "# print(len(6))"
   ]
  },
  {
   "cell_type": "code",
   "execution_count": null,
   "id": "b658fe0e-b795-4517-a91b-4cc8c73fc2c8",
   "metadata": {},
   "outputs": [],
   "source": [
    "# Challenge\n",
    "#print(5//3) ---> how many times does 3 go into 5 (only 1)\n",
    "#print(5/3)  ---> does regular division, includes remainder\n",
    "#print(5%3)  ---> only gives remainder"
   ]
  },
  {
   "cell_type": "code",
   "execution_count": null,
   "id": "202262ef-6f42-426b-bdfd-fc32c1e7f832",
   "metadata": {},
   "outputs": [],
   "source": [
    "print(5//3) \n",
    "print(5/3) \n",
    "print(5%3) "
   ]
  },
  {
   "cell_type": "markdown",
   "id": "77f56f03-8d97-4824-bc05-c16e7628eac1",
   "metadata": {},
   "source": [
    "# Getting Help"
   ]
  },
  {
   "cell_type": "code",
   "execution_count": null,
   "id": "7572c6d5-37e9-4af4-97d2-8413bbce263b",
   "metadata": {},
   "outputs": [],
   "source": [
    "# rounding numbers is built in but rounds to integer \n",
    "#unless you include a comma and integer representing place value\n",
    "round (3.14159)"
   ]
  },
  {
   "cell_type": "code",
   "execution_count": null,
   "id": "2c2d67e6-003b-44d6-806f-b93157e616b6",
   "metadata": {},
   "outputs": [],
   "source": [
    "round (3.14159, 2)"
   ]
  },
  {
   "cell_type": "code",
   "execution_count": null,
   "id": "c58aeee7-e6b0-4359-ba63-92e832cc9c4d",
   "metadata": {},
   "outputs": [],
   "source": [
    "help (round)"
   ]
  },
  {
   "cell_type": "code",
   "execution_count": null,
   "id": "ba929eeb-3151-44d0-bc28-29544c82f9fe",
   "metadata": {},
   "outputs": [],
   "source": [
    "round (3.14159, ndigits=2)"
   ]
  },
  {
   "cell_type": "code",
   "execution_count": null,
   "id": "f058b1af-ce60-43e3-b326-fbdab030b8f0",
   "metadata": {},
   "outputs": [],
   "source": [
    "# All functions return a new value\n",
    "rounded_pi = round (3.14159, 2)\n",
    "print(rounded_pi)"
   ]
  },
  {
   "cell_type": "markdown",
   "id": "7e31b7e6-8bfc-490d-affe-641a6a27e2b4",
   "metadata": {},
   "source": [
    "## Challenge \n",
    "In what order do the operations happen?\n",
    "\n",
    "radiance = 1.0\n",
    "\n",
    "radiance = max(2.1, 2.0, + min(radiance, 1.1*radiance-0.5)\n",
    "\n",
    "*functions work from the inside out"
   ]
  },
  {
   "cell_type": "code",
   "execution_count": null,
   "id": "5e7b058c-a5b0-4a6b-be26-0b9550176b78",
   "metadata": {},
   "outputs": [],
   "source": [
    "radiance = 1.0\n",
    "\n",
    "radiance = max(2.1, 2.0 + min(radiance, 1.1 * radiance - 0.5))\n",
    "print(radiance)"
   ]
  },
  {
   "cell_type": "code",
   "execution_count": null,
   "id": "a2ce5ec0-ed0e-4cfe-a5c5-ac51dcb0548c",
   "metadata": {},
   "outputs": [],
   "source": [
    "#break down these operations\n",
    "radiance = 1.0 \n",
    "\n",
    "min_agr_2= 1.1 * radiance - 0.5\n",
    "print(\"Min_agr_2\", min_agr_2)\n",
    "\n",
    "min_result = min(radiance, min_agr_2)\n",
    "print (\"Min_result\", min_result)\n",
    "\n",
    "radiance = max( 2.1, 2.0 + min_result)\n",
    "print(\"Radiance\", radiance)"
   ]
  },
  {
   "cell_type": "markdown",
   "id": "31dfc3fb-b5d0-4c44-9dde-9aa37253dbbb",
   "metadata": {},
   "source": [
    "# A Brief Interlude with Git\n",
    "\n",
    "# Libraries"
   ]
  },
  {
   "cell_type": "code",
   "execution_count": null,
   "id": "abbae768-99b3-4ed3-9d09-3df9c88fbf03",
   "metadata": {},
   "outputs": [],
   "source": [
    "import math"
   ]
  },
  {
   "cell_type": "code",
   "execution_count": null,
   "id": "7ccd7c08-99c7-4c68-928f-4a397421af57",
   "metadata": {},
   "outputs": [],
   "source": [
    "math.pi"
   ]
  },
  {
   "cell_type": "code",
   "execution_count": null,
   "id": "af236d90-a665-4246-9d48-6a696361a68b",
   "metadata": {},
   "outputs": [],
   "source": [
    "print (math.pi)\n",
    "print (math.cos(math.pi))"
   ]
  },
  {
   "cell_type": "code",
   "execution_count": null,
   "id": "43401ef5-b902-4362-b8c4-d95757600471",
   "metadata": {},
   "outputs": [],
   "source": [
    "# get complete help with help()\n",
    "#help(math)\n",
    "\n",
    "# get a list of options with dir()\n",
    "\n",
    "print(dir(math))"
   ]
  },
  {
   "cell_type": "markdown",
   "id": "765b7290-560d-425e-93dd-1365d9301c78",
   "metadata": {},
   "source": [
    "# Lists"
   ]
  },
  {
   "cell_type": "code",
   "execution_count": null,
   "id": "3b25cca9-978d-4aac-a437-e06bddf7d25d",
   "metadata": {},
   "outputs": [],
   "source": [
    "# a list is an ordered collection of stuff-- use brackets \n",
    "fruits = [\"apple\", \"banana\", \"cherry\", \"date\", \"elderberry\", \"fig\"]\n",
    "print(\"fruits\")"
   ]
  },
  {
   "cell_type": "code",
   "execution_count": null,
   "id": "879a3c7d-75fd-4c83-83d5-cae26d5e608a",
   "metadata": {},
   "outputs": [],
   "source": [
    "fruits"
   ]
  },
  {
   "cell_type": "code",
   "execution_count": null,
   "id": "73f358cf-2220-4071-a1cd-9c1da099e09a",
   "metadata": {},
   "outputs": [],
   "source": [
    "len(fruits)"
   ]
  },
  {
   "cell_type": "code",
   "execution_count": null,
   "id": "e3f5a595-4126-43fe-843d-8d6ec9b20fb5",
   "metadata": {},
   "outputs": [],
   "source": [
    "# Lists are index by position, counting from 0\n",
    "# First item\n",
    "print(fruits[0])\n",
    "\n",
    "#fifth item\n",
    "print(fruits[4])"
   ]
  },
  {
   "cell_type": "code",
   "execution_count": null,
   "id": "9df12e24-6e11-464b-85e7-0ad661927cf9",
   "metadata": {},
   "outputs": [],
   "source": [
    "fruits [2:5]"
   ]
  },
  {
   "cell_type": "code",
   "execution_count": null,
   "id": "aa71141e-0b22-49fb-909d-47a19c061d2e",
   "metadata": {},
   "outputs": [],
   "source": [
    "# get items by step\n",
    "# get the first 5 items, every other item\n",
    "fruits[0:5:2]"
   ]
  },
  {
   "cell_type": "code",
   "execution_count": null,
   "id": "2051ef5c-1b7c-4671-9751-c8ef0eedf431",
   "metadata": {},
   "outputs": [],
   "source": [
    "# get first 5 items, every third item\n",
    "fruits [0:5:3]"
   ]
  },
  {
   "cell_type": "code",
   "execution_count": null,
   "id": "da30596e-7600-48af-8a2a-6c6b397fbb56",
   "metadata": {},
   "outputs": [],
   "source": [
    "print(len(fruits))"
   ]
  },
  {
   "cell_type": "markdown",
   "id": "050dcc47-43cd-410a-872f-75592881c562",
   "metadata": {},
   "source": [
    "# Challenge\n",
    "\n",
    "What are the following statements doing?\n",
    "\n",
    "fruits[-1]\n",
    "*this gives first item from right to left (last item on the list)\n",
    "\n",
    "fruits[20]\n",
    "*this gives the 21st item\n",
    "\n",
    "fruits[-3:]\n",
    "*this gives starting from the 3rd to last item to the last item on the list"
   ]
  },
  {
   "cell_type": "code",
   "execution_count": null,
   "id": "02b9a80d-14f7-4d39-8cae-6c119104f34c",
   "metadata": {},
   "outputs": [],
   "source": [
    "print(fruits[-1])\n",
    "#fruits[20]\n",
    "print(fruits[-3:])"
   ]
  },
  {
   "cell_type": "markdown",
   "id": "2fc174d2-3756-4be3-803f-36b605d2bc64",
   "metadata": {},
   "source": [
    "# Adding stuff to lists"
   ]
  },
  {
   "cell_type": "code",
   "execution_count": null,
   "id": "c40cae0b-193a-489c-8a22-add338197a3e",
   "metadata": {},
   "outputs": [],
   "source": [
    "# updating a specific item on the list\n",
    "print(fruits)\n"
   ]
  },
  {
   "cell_type": "code",
   "execution_count": null,
   "id": "21194ef4-f0cc-4eab-8d5e-253c9a62adab",
   "metadata": {},
   "outputs": [],
   "source": [
    "fruits[0] = \"apricot\"\n",
    "print(fruits)"
   ]
  },
  {
   "cell_type": "code",
   "execution_count": null,
   "id": "c022eaed-8290-4f7c-bc45-cb2d7eccbce3",
   "metadata": {},
   "outputs": [],
   "source": [
    "# add new items to the list\n",
    "\n",
    "fruits.append(\"grape\")\n",
    "print(fruits)"
   ]
  },
  {
   "cell_type": "code",
   "execution_count": null,
   "id": "b219c389-8f50-4823-ab66-028f97ac181b",
   "metadata": {},
   "outputs": [],
   "source": [
    "# add items from a second list to first list\n",
    "more_fruits = [\"honeydew\", \"imbe\", \"jackfruit\"]\n",
    "fruits.extend(more_fruits)\n",
    "print(fruits)"
   ]
  },
  {
   "cell_type": "code",
   "execution_count": null,
   "id": "32d47eec-1f9d-4af7-9f57-c87aa193f52e",
   "metadata": {},
   "outputs": [],
   "source": [
    "# many functions operate on collections\n",
    "# assessing your wide receiving corp\n",
    "receiving_yards = [450, 370, 870, 150]\n",
    "mean_yards= sum(receiving_yards) / len(receiving_yards)\n",
    "print(mean_yards)"
   ]
  },
  {
   "cell_type": "markdown",
   "id": "611c1cb7-297e-4b78-abca-1724dc62a726",
   "metadata": {},
   "source": [
    "# For Loops"
   ]
  },
  {
   "cell_type": "code",
   "execution_count": null,
   "id": "81452c5d-c694-4038-8a6d-494385fa272b",
   "metadata": {},
   "outputs": [],
   "source": [
    "for fruit in fruits:\n",
    "    print(fruits)"
   ]
  },
  {
   "cell_type": "code",
   "execution_count": null,
   "id": "0fda876b-d2dc-4118-962d-c3f6711b00c5",
   "metadata": {},
   "outputs": [],
   "source": [
    "for bob in fruits:\n",
    "    print(bob)"
   ]
  },
  {
   "cell_type": "code",
   "execution_count": null,
   "id": "894ff609-b3a3-4b64-8466-906de5d70d0b",
   "metadata": {},
   "outputs": [],
   "source": [
    "# code blocks can contain many statements\n",
    "primes= [2,3,5]\n",
    "for p in primes:\n",
    "    squared= p **2\n",
    "    cubed= p **3\n",
    "    print(p,squared,cubed)"
   ]
  },
  {
   "cell_type": "code",
   "execution_count": null,
   "id": "6d3043af-735f-46cf-86a5-c6164d36ee5d",
   "metadata": {},
   "outputs": [],
   "source": [
    "# create a new collection from an existing collection\n",
    "primes_squared=[]\n",
    "for p in primes:\n",
    "    primes_squared.append(p **2)\n",
    "\n",
    "print(primes_squared)"
   ]
  },
  {
   "cell_type": "markdown",
   "id": "f9e6332e-3c80-408a-97bc-08f6cd52f5c3",
   "metadata": {},
   "source": [
    "## challenge\n",
    "get the total length of all the items in the fruits list.\n",
    "\n",
    "#solution\n",
    "fruit_lengths=[]\n",
    "for f in fruits:\n",
    "    fruit_lengths.append(len(f))\n",
    "\n",
    "print(fruit_lengths)\n",
    "print(sum(fruit_lengths))\n",
    "\n",
    "#solution\n",
    "count= 0\n",
    "for f in fruits:\n",
    "    count = count +len(f)\n",
    "    print(count)\n",
    "\n"
   ]
  },
  {
   "cell_type": "code",
   "execution_count": null,
   "id": "cb7cf365-02dc-4833-a756-31a5629fedf5",
   "metadata": {},
   "outputs": [],
   "source": [
    "len(fruits)"
   ]
  },
  {
   "cell_type": "code",
   "execution_count": null,
   "id": "9cc3860a-9588-4556-925c-b7fd886c3299",
   "metadata": {},
   "outputs": [],
   "source": [
    "len_f = []\n",
    "for f in fruits:\n",
    "    len_f.append(len(fruits))\n",
    "\n",
    "sum(len_f)"
   ]
  },
  {
   "cell_type": "code",
   "execution_count": null,
   "id": "e7eccbb4-4aaf-485e-bd22-ce8009107128",
   "metadata": {},
   "outputs": [],
   "source": [
    "fruit_len = 0 \n",
    "for fruit in fruits:\n",
    "    fruit_len += len(fruit)\n",
    "fruit_len"
   ]
  },
  {
   "cell_type": "code",
   "execution_count": null,
   "id": "60e2f7c6-018f-4bb0-8b4c-b596ef27b8f0",
   "metadata": {},
   "outputs": [],
   "source": [
    "len(\"\".join(fruits))"
   ]
  },
  {
   "cell_type": "code",
   "execution_count": null,
   "id": "08963bfd-67c0-41d6-b822-cf79475c3653",
   "metadata": {},
   "outputs": [],
   "source": [
    "print(\"   \".join(fruits))"
   ]
  }
 ],
 "metadata": {
  "kernelspec": {
   "display_name": "Python 3 (ipykernel)",
   "language": "python",
   "name": "python3"
  },
  "language_info": {
   "codemirror_mode": {
    "name": "ipython",
    "version": 3
   },
   "file_extension": ".py",
   "mimetype": "text/x-python",
   "name": "python",
   "nbconvert_exporter": "python",
   "pygments_lexer": "ipython3",
   "version": "3.12.4"
  }
 },
 "nbformat": 4,
 "nbformat_minor": 5
}
