{
 "cells": [
  {
   "cell_type": "code",
   "execution_count": null,
   "id": "f3351457-4072-4111-81cb-a6817d301973",
   "metadata": {},
   "outputs": [],
   "source": [
    "3 + 7"
   ]
  },
  {
   "cell_type": "code",
   "execution_count": null,
   "id": "d96c584c-3608-4d62-8ea7-4d3f8c4a6a27",
   "metadata": {},
   "outputs": [],
   "source": [
    "print (\"hello\")"
   ]
  },
  {
   "cell_type": "code",
   "execution_count": null,
   "id": "d9434419-2ee1-4797-be4d-9bb473c3250e",
   "metadata": {},
   "outputs": [],
   "source": [
    "print (\"7\")"
   ]
  },
  {
   "cell_type": "code",
   "execution_count": null,
   "id": "20010b81-af9f-438f-98f6-2e75493527a3",
   "metadata": {},
   "outputs": [],
   "source": [
    "name  = \"melisa\""
   ]
  },
  {
   "cell_type": "code",
   "execution_count": null,
   "id": "24ba8c52-143c-4e62-aa6f-0d895b78bc93",
   "metadata": {},
   "outputs": [],
   "source": [
    "name = \"Melisa\"\n",
    "age = 25\n",
    "print (age)"
   ]
  },
  {
   "cell_type": "code",
   "execution_count": null,
   "id": "93ab1438-0c01-4758-a011-54f43e75423a",
   "metadata": {},
   "outputs": [],
   "source": [
    "# this is a comment. It will not run\n",
    "# You can echo values without using print in this notebook\n",
    "name"
   ]
  },
  {
   "cell_type": "code",
   "execution_count": null,
   "id": "667c9129-50fb-4ba7-aa78-fdeaf79f0d54",
   "metadata": {},
   "outputs": [],
   "source": [
    "'Melisa'"
   ]
  },
  {
   "cell_type": "markdown",
   "id": "ab3fe233-0f3f-4a7f-8f28-96baec1f597c",
   "metadata": {},
   "source": [
    "# Variables and Values"
   ]
  },
  {
   "cell_type": "code",
   "execution_count": null,
   "id": "e18906dd-04ac-4b89-a242-ec4dca57b8e1",
   "metadata": {},
   "outputs": [],
   "source": [
    "# variables can be used in calculations\n",
    "print(age)\n",
    "age = age + 3\n",
    "print(age)"
   ]
  },
  {
   "cell_type": "code",
   "execution_count": null,
   "id": "bb9f85e2-878d-40f5-9d76-25d4dc94da86",
   "metadata": {},
   "outputs": [],
   "source": [
    "# order of operations matters\n",
    "first = 1\n",
    "second = first * 5\n",
    "first = 2\n",
    "\n",
    "print(first)\n",
    "print(second)"
   ]
  },
  {
   "cell_type": "code",
   "execution_count": null,
   "id": "6fb899aa-0f7c-4356-b153-0e2d9cf40d2a",
   "metadata": {},
   "outputs": [],
   "source": [
    "# Values have types. Types affect what you can do with them.\n",
    "print (5 - 3)\n",
    "print (\"hello - h\")"
   ]
  },
  {
   "cell_type": "code",
   "execution_count": null,
   "id": "e1de06f6-0d8a-47e1-9fde-18ea793662ec",
   "metadata": {},
   "outputs": [],
   "source": [
    "print(len(\"hello\"))\n",
    "# print(len(6))"
   ]
  },
  {
   "cell_type": "code",
   "execution_count": null,
   "id": "b658fe0e-b795-4517-a91b-4cc8c73fc2c8",
   "metadata": {},
   "outputs": [],
   "source": [
    "# Challenge\n",
    "#print(5//3) ---> how many times does 3 go into 5 (only 1)\n",
    "#print(5/3)  ---> does regular division, includes remainder\n",
    "#print(5%3)  ---> only gives remainder"
   ]
  },
  {
   "cell_type": "code",
   "execution_count": null,
   "id": "202262ef-6f42-426b-bdfd-fc32c1e7f832",
   "metadata": {},
   "outputs": [],
   "source": [
    "print(5//3) \n",
    "print(5/3) \n",
    "print(5%3) "
   ]
  },
  {
   "cell_type": "markdown",
   "id": "77f56f03-8d97-4824-bc05-c16e7628eac1",
   "metadata": {},
   "source": [
    "# Getting Help"
   ]
  },
  {
   "cell_type": "code",
   "execution_count": null,
   "id": "7572c6d5-37e9-4af4-97d2-8413bbce263b",
   "metadata": {},
   "outputs": [],
   "source": [
    "# rounding numbers is built in but rounds to integer \n",
    "#unless you include a comma and integer representing place value\n",
    "round (3.14159)"
   ]
  },
  {
   "cell_type": "code",
   "execution_count": null,
   "id": "2c2d67e6-003b-44d6-806f-b93157e616b6",
   "metadata": {},
   "outputs": [],
   "source": [
    "round (3.14159, 2)"
   ]
  },
  {
   "cell_type": "code",
   "execution_count": null,
   "id": "c58aeee7-e6b0-4359-ba63-92e832cc9c4d",
   "metadata": {},
   "outputs": [],
   "source": [
    "help (round)"
   ]
  },
  {
   "cell_type": "code",
   "execution_count": null,
   "id": "ba929eeb-3151-44d0-bc28-29544c82f9fe",
   "metadata": {},
   "outputs": [],
   "source": [
    "round (3.14159, ndigits=2)"
   ]
  },
  {
   "cell_type": "code",
   "execution_count": null,
   "id": "f058b1af-ce60-43e3-b326-fbdab030b8f0",
   "metadata": {},
   "outputs": [],
   "source": [
    "# All functions return a new value\n",
    "rounded_pi = round (3.14159, 2)\n",
    "print(rounded_pi)"
   ]
  },
  {
   "cell_type": "markdown",
   "id": "7e31b7e6-8bfc-490d-affe-641a6a27e2b4",
   "metadata": {},
   "source": [
    "## Challenge \n",
    "In what order do the operations happen?\n",
    "\n",
    "radiance = 1.0\n",
    "\n",
    "radiance = max(2.1, 2.0, + min(radiance, 1.1*radiance-0.5)\n",
    "\n",
    "*functions work from the inside out"
   ]
  },
  {
   "cell_type": "code",
   "execution_count": null,
   "id": "5e7b058c-a5b0-4a6b-be26-0b9550176b78",
   "metadata": {},
   "outputs": [],
   "source": [
    "radiance = 1.0\n",
    "\n",
    "radiance = max(2.1, 2.0 + min(radiance, 1.1 * radiance - 0.5))\n",
    "print(radiance)"
   ]
  },
  {
   "cell_type": "code",
   "execution_count": null,
   "id": "a2ce5ec0-ed0e-4cfe-a5c5-ac51dcb0548c",
   "metadata": {},
   "outputs": [],
   "source": [
    "#break down these operations\n",
    "radiance = 1.0 \n",
    "\n",
    "min_agr_2= 1.1 * radiance - 0.5\n",
    "print(\"Min_agr_2\", min_agr_2)\n",
    "\n",
    "min_result = min(radiance, min_agr_2)\n",
    "print (\"Min_result\", min_result)\n",
    "\n",
    "radiance = max( 2.1, 2.0 + min_result)\n",
    "print(\"Radiance\", radiance)"
   ]
  },
  {
   "cell_type": "markdown",
   "id": "31dfc3fb-b5d0-4c44-9dde-9aa37253dbbb",
   "metadata": {},
   "source": [
    "# A Brief Interlude with Git\n",
    "\n",
    "# Libraries"
   ]
  },
  {
   "cell_type": "code",
   "execution_count": null,
   "id": "abbae768-99b3-4ed3-9d09-3df9c88fbf03",
   "metadata": {},
   "outputs": [],
   "source": [
    "import math"
   ]
  },
  {
   "cell_type": "code",
   "execution_count": null,
   "id": "7ccd7c08-99c7-4c68-928f-4a397421af57",
   "metadata": {},
   "outputs": [],
   "source": [
    "math.pi"
   ]
  },
  {
   "cell_type": "code",
   "execution_count": null,
   "id": "af236d90-a665-4246-9d48-6a696361a68b",
   "metadata": {},
   "outputs": [],
   "source": [
    "print (math.pi)\n",
    "print (math.cos(math.pi))"
   ]
  },
  {
   "cell_type": "code",
   "execution_count": null,
   "id": "43401ef5-b902-4362-b8c4-d95757600471",
   "metadata": {},
   "outputs": [],
   "source": [
    "# get complete help with help()\n",
    "#help(math)\n",
    "\n",
    "# get a list of options with dir()\n",
    "\n",
    "print(dir(math))"
   ]
  },
  {
   "cell_type": "markdown",
   "id": "765b7290-560d-425e-93dd-1365d9301c78",
   "metadata": {},
   "source": [
    "# Lists"
   ]
  },
  {
   "cell_type": "code",
   "execution_count": null,
   "id": "3b25cca9-978d-4aac-a437-e06bddf7d25d",
   "metadata": {},
   "outputs": [],
   "source": [
    "# a list is an ordered collection of stuff-- use brackets \n",
    "fruits = [\"apple\", \"banana\", \"cherry\", \"date\", \"elderberry\", \"fig\"]\n",
    "print(\"fruits\")"
   ]
  },
  {
   "cell_type": "code",
   "execution_count": null,
   "id": "879a3c7d-75fd-4c83-83d5-cae26d5e608a",
   "metadata": {},
   "outputs": [],
   "source": [
    "fruits"
   ]
  },
  {
   "cell_type": "code",
   "execution_count": null,
   "id": "73f358cf-2220-4071-a1cd-9c1da099e09a",
   "metadata": {},
   "outputs": [],
   "source": [
    "len(fruits)"
   ]
  },
  {
   "cell_type": "code",
   "execution_count": null,
   "id": "e3f5a595-4126-43fe-843d-8d6ec9b20fb5",
   "metadata": {},
   "outputs": [],
   "source": [
    "# Lists are index by position, counting from 0\n",
    "# First item\n",
    "print(fruits[0])\n",
    "\n",
    "#fifth item\n",
    "print(fruits[4])"
   ]
  },
  {
   "cell_type": "code",
   "execution_count": null,
   "id": "9df12e24-6e11-464b-85e7-0ad661927cf9",
   "metadata": {},
   "outputs": [],
   "source": [
    "fruits [2:5]"
   ]
  },
  {
   "cell_type": "code",
   "execution_count": null,
   "id": "aa71141e-0b22-49fb-909d-47a19c061d2e",
   "metadata": {},
   "outputs": [],
   "source": [
    "# get items by step\n",
    "# get the first 5 items, every other item\n",
    "fruits[0:5:2]"
   ]
  },
  {
   "cell_type": "code",
   "execution_count": null,
   "id": "2051ef5c-1b7c-4671-9751-c8ef0eedf431",
   "metadata": {},
   "outputs": [],
   "source": [
    "# get first 5 items, every third item\n",
    "fruits [0:5:3]"
   ]
  },
  {
   "cell_type": "code",
   "execution_count": null,
   "id": "da30596e-7600-48af-8a2a-6c6b397fbb56",
   "metadata": {},
   "outputs": [],
   "source": [
    "print(len(fruits))"
   ]
  },
  {
   "cell_type": "markdown",
   "id": "050dcc47-43cd-410a-872f-75592881c562",
   "metadata": {},
   "source": [
    "# Challenge\n",
    "\n",
    "What are the following statements doing?\n",
    "\n",
    "fruits[-1]\n",
    "*this gives first item from right to left (last item on the list)\n",
    "\n",
    "fruits[20]\n",
    "*this gives the 21st item\n",
    "\n",
    "fruits[-3:]\n",
    "*this gives starting from the 3rd to last item to the last item on the list"
   ]
  },
  {
   "cell_type": "code",
   "execution_count": null,
   "id": "02b9a80d-14f7-4d39-8cae-6c119104f34c",
   "metadata": {},
   "outputs": [],
   "source": [
    "print(fruits[-1])\n",
    "#fruits[20]\n",
    "print(fruits[-3:])"
   ]
  },
  {
   "cell_type": "markdown",
   "id": "2fc174d2-3756-4be3-803f-36b605d2bc64",
   "metadata": {},
   "source": [
    "# Adding stuff to lists"
   ]
  },
  {
   "cell_type": "code",
   "execution_count": null,
   "id": "c40cae0b-193a-489c-8a22-add338197a3e",
   "metadata": {},
   "outputs": [],
   "source": [
    "# updating a specific item on the list\n",
    "print(fruits)\n"
   ]
  },
  {
   "cell_type": "code",
   "execution_count": null,
   "id": "21194ef4-f0cc-4eab-8d5e-253c9a62adab",
   "metadata": {},
   "outputs": [],
   "source": [
    "fruits[0] = \"apricot\"\n",
    "print(fruits)"
   ]
  },
  {
   "cell_type": "code",
   "execution_count": null,
   "id": "c022eaed-8290-4f7c-bc45-cb2d7eccbce3",
   "metadata": {},
   "outputs": [],
   "source": [
    "# add new items to the list\n",
    "\n",
    "fruits.append(\"grape\")\n",
    "print(fruits)"
   ]
  },
  {
   "cell_type": "code",
   "execution_count": null,
   "id": "b219c389-8f50-4823-ab66-028f97ac181b",
   "metadata": {},
   "outputs": [],
   "source": [
    "# add items from a second list to first list\n",
    "more_fruits = [\"honeydew\", \"imbe\", \"jackfruit\"]\n",
    "fruits.extend(more_fruits)\n",
    "print(fruits)"
   ]
  },
  {
   "cell_type": "code",
   "execution_count": null,
   "id": "32d47eec-1f9d-4af7-9f57-c87aa193f52e",
   "metadata": {},
   "outputs": [],
   "source": [
    "# many functions operate on collections\n",
    "# assessing your wide receiving corp\n",
    "receiving_yards = [450, 370, 870, 150]\n",
    "mean_yards= sum(receiving_yards) / len(receiving_yards)\n",
    "print(mean_yards)"
   ]
  },
  {
   "cell_type": "markdown",
   "id": "611c1cb7-297e-4b78-abca-1724dc62a726",
   "metadata": {},
   "source": [
    "# For Loops"
   ]
  },
  {
   "cell_type": "code",
   "execution_count": null,
   "id": "81452c5d-c694-4038-8a6d-494385fa272b",
   "metadata": {},
   "outputs": [],
   "source": [
    "for fruit in fruits:\n",
    "    print(fruits)"
   ]
  },
  {
   "cell_type": "code",
   "execution_count": null,
   "id": "0fda876b-d2dc-4118-962d-c3f6711b00c5",
   "metadata": {},
   "outputs": [],
   "source": [
    "for bob in fruits:\n",
    "    print(bob)"
   ]
  },
  {
   "cell_type": "code",
   "execution_count": null,
   "id": "894ff609-b3a3-4b64-8466-906de5d70d0b",
   "metadata": {},
   "outputs": [],
   "source": [
    "# code blocks can contain many statements\n",
    "primes= [2,3,5]\n",
    "for p in primes:\n",
    "    squared= p **2\n",
    "    cubed= p **3\n",
    "    print(p,squared,cubed)"
   ]
  },
  {
   "cell_type": "code",
   "execution_count": null,
   "id": "6d3043af-735f-46cf-86a5-c6164d36ee5d",
   "metadata": {},
   "outputs": [],
   "source": [
    "# create a new collection from an existing collection\n",
    "primes_squared=[]\n",
    "for p in primes:\n",
    "    primes_squared.append(p **2)\n",
    "\n",
    "print(primes_squared)"
   ]
  },
  {
   "cell_type": "markdown",
   "id": "f9e6332e-3c80-408a-97bc-08f6cd52f5c3",
   "metadata": {},
   "source": [
    "## challenge\n",
    "get the total length of all the items in the fruits list.\n",
    "\n",
    "#solution\n",
    "fruit_lengths=[]\n",
    "for f in fruits:\n",
    "    fruit_lengths.append(len(f))\n",
    "\n",
    "print(fruit_lengths)\n",
    "print(sum(fruit_lengths))\n",
    "\n",
    "#solution\n",
    "count= 0\n",
    "for f in fruits:\n",
    "    count = count +len(f)\n",
    "    print(count)\n",
    "\n"
   ]
  },
  {
   "cell_type": "code",
   "execution_count": null,
   "id": "cb7cf365-02dc-4833-a756-31a5629fedf5",
   "metadata": {},
   "outputs": [],
   "source": [
    "len(fruits)"
   ]
  },
  {
   "cell_type": "code",
   "execution_count": null,
   "id": "9cc3860a-9588-4556-925c-b7fd886c3299",
   "metadata": {},
   "outputs": [],
   "source": [
    "len_f = []\n",
    "for f in fruits:\n",
    "    len_f.append(len(fruits))\n",
    "\n",
    "sum(len_f)"
   ]
  },
  {
   "cell_type": "code",
   "execution_count": null,
   "id": "e7eccbb4-4aaf-485e-bd22-ce8009107128",
   "metadata": {},
   "outputs": [],
   "source": [
    "fruit_len = 0 \n",
    "for fruit in fruits:\n",
    "    fruit_len += len(fruit)\n",
    "fruit_len"
   ]
  },
  {
   "cell_type": "code",
   "execution_count": null,
   "id": "60e2f7c6-018f-4bb0-8b4c-b596ef27b8f0",
   "metadata": {},
   "outputs": [],
   "source": [
    "len(\"\".join(fruits))"
   ]
  },
  {
   "cell_type": "code",
   "execution_count": null,
   "id": "08963bfd-67c0-41d6-b822-cf79475c3653",
   "metadata": {},
   "outputs": [],
   "source": [
    "print(\"   \".join(fruits))"
   ]
  },
  {
   "cell_type": "code",
   "execution_count": null,
   "id": "3f33d037-6d50-4ba4-a29d-b515ba68eb2d",
   "metadata": {},
   "outputs": [],
   "source": []
  },
  {
   "cell_type": "code",
   "execution_count": null,
   "id": "754c470f-c889-41c7-9d0a-45576d4ec9bc",
   "metadata": {},
   "outputs": [],
   "source": [
    "#Day 2 of Python"
   ]
  },
  {
   "cell_type": "markdown",
   "id": "95186346-5bc5-4893-8cd8-0f2275fe4ca7",
   "metadata": {},
   "source": [
    "# Linear Algebra with NumPy"
   ]
  },
  {
   "cell_type": "code",
   "execution_count": null,
   "id": "4da8fda7-09b6-4225-aa24-6c98b6f66d4f",
   "metadata": {},
   "outputs": [],
   "source": [
    "import numpy as np"
   ]
  },
  {
   "cell_type": "code",
   "execution_count": null,
   "id": "a898557c-adff-4dfa-809f-ac6a29a043fa",
   "metadata": {},
   "outputs": [],
   "source": [
    "# create an array of random numbers\n",
    "# rand gives an array of numbers between 0 and 1\n",
    "# rand[x,y] where x is row and x is column\n",
    "m_rand = np.random.rand(3,4) \n",
    "print(m_rand)"
   ]
  },
  {
   "cell_type": "code",
   "execution_count": null,
   "id": "95a347f9-1a73-4eb0-8305-737f0a684bbe",
   "metadata": {},
   "outputs": [],
   "source": [
    "#this is 2 dimensional\n",
    "m_rand[0,0]"
   ]
  },
  {
   "cell_type": "code",
   "execution_count": null,
   "id": "61b83a9c-6edf-4f50-a19e-67aa64b29e36",
   "metadata": {},
   "outputs": [],
   "source": [
    "m_rand[0,1]"
   ]
  },
  {
   "cell_type": "code",
   "execution_count": null,
   "id": "db70a136-cb19-4082-9700-e91248f9d959",
   "metadata": {},
   "outputs": [],
   "source": [
    "# arrays have attributes\n",
    "print(m_rand.shape) # shape of array made in original argument \n",
    "print(m_rand.size) # total values in array\n",
    "print(m_rand.ndim) # num of dimensions"
   ]
  },
  {
   "cell_type": "code",
   "execution_count": null,
   "id": "9c38699b-8981-49b0-adb5-d81bfa6de66c",
   "metadata": {},
   "outputs": [],
   "source": [
    "# Linear algebra\n",
    "x = np.arange(9)\n",
    "y = np.arange(9)\n",
    "\n",
    "print(x)\n",
    "print(y)"
   ]
  },
  {
   "cell_type": "code",
   "execution_count": null,
   "id": "acf80bb4-09e2-468b-9e5b-6d250e52b42f",
   "metadata": {},
   "outputs": [],
   "source": [
    "# operations are element-wise by default\n",
    "x * y "
   ]
  },
  {
   "cell_type": "code",
   "execution_count": null,
   "id": "8916febd-3b08-4ffc-8e40-8e456aa9de19",
   "metadata": {},
   "outputs": [],
   "source": [
    "# Matrix-wise operations if you like\n",
    "#this is the dot product- 2 arrays multiplied and sum the \n",
    "#result- depending on dimension of array you will get diff outputs\n",
    "x @ y"
   ]
  },
  {
   "cell_type": "code",
   "execution_count": null,
   "id": "aac373c0-d0db-4f38-b67f-16baa2ff4af9",
   "metadata": {},
   "outputs": [],
   "source": [
    "# you can reshape arrays\n",
    "x1 = x.reshape(3,3)\n",
    "x2 = x.reshape(9,1)\n",
    "\n",
    "print(x1)\n",
    "print(x2)"
   ]
  },
  {
   "cell_type": "markdown",
   "id": "ac965cb4-27d9-47dd-a5f2-b950d7146add",
   "metadata": {},
   "source": [
    "## challenge\n",
    "1. create a 3 by 3 array w/ numbers 0-8\n",
    "2. multiply array by itself (element wise)\n",
    "3. Multiply array by it's transpose\n",
    "4. divide the array by itself"
   ]
  },
  {
   "cell_type": "code",
   "execution_count": null,
   "id": "448f9497-8b0f-4787-b829-e8e5443719e4",
   "metadata": {},
   "outputs": [],
   "source": [
    "# 1 create a 3 by 3 array w/ numbers 0-8\n",
    "\n",
    "a = np.arange(9)\n",
    "a1 = a.reshape(3,3)\n",
    "print(a) \n",
    "print(a1)"
   ]
  },
  {
   "cell_type": "code",
   "execution_count": null,
   "id": "9492268b-f598-4ed5-ad71-6291e318e381",
   "metadata": {},
   "outputs": [],
   "source": [
    "demo = np.arange(9).reshape(3,3)\n",
    "print(demo)"
   ]
  },
  {
   "cell_type": "code",
   "execution_count": null,
   "id": "096028df-2d14-4474-9138-6425719304f7",
   "metadata": {},
   "outputs": [],
   "source": [
    "#2 multiply array by itself\n",
    "demo * demo"
   ]
  },
  {
   "cell_type": "code",
   "execution_count": null,
   "id": "de3563bb-4799-4427-8ade-3fd49061efa9",
   "metadata": {},
   "outputs": [],
   "source": [
    "#3 multiply array by it's transpose\n",
    "\n",
    "demo * demo.T"
   ]
  },
  {
   "cell_type": "code",
   "execution_count": null,
   "id": "8b5c210e-bfc2-4a1e-a0f7-a9bd820228c9",
   "metadata": {},
   "outputs": [],
   "source": [
    "# 4 divide array by itself\n",
    "#got an error bc there is a 0 in the array\n",
    "\n",
    "demo / demo"
   ]
  },
  {
   "cell_type": "markdown",
   "id": "4dd7bd07-796f-4822-be19-ffb928a4e410",
   "metadata": {},
   "source": [
    "# Working with data in Pandas (python library)"
   ]
  },
  {
   "cell_type": "code",
   "execution_count": null,
   "id": "84b42664-a21c-41bf-a6b1-73020c44ca68",
   "metadata": {},
   "outputs": [],
   "source": [
    "import pandas as pd"
   ]
  },
  {
   "cell_type": "code",
   "execution_count": null,
   "id": "41a9b2a3-67db-4bd3-be94-aa540a3a3f9c",
   "metadata": {},
   "outputs": [],
   "source": [
    "data = pd.read_csv(\"gapminder_gdp_oceania.csv\")\n",
    "print(data)"
   ]
  },
  {
   "cell_type": "code",
   "execution_count": null,
   "id": "f7c05427-3c75-4f83-aa75-938905a153c2",
   "metadata": {},
   "outputs": [],
   "source": [
    "data"
   ]
  },
  {
   "cell_type": "code",
   "execution_count": null,
   "id": "e0e1a684-981c-4958-85bf-4c83731c9e85",
   "metadata": {},
   "outputs": [],
   "source": [
    "# import data and index by country name\n",
    "data = pd.read_csv(\"gapminder_gdp_oceania.csv\", index_col = \"country\")\n"
   ]
  },
  {
   "cell_type": "code",
   "execution_count": null,
   "id": "6e87a597-e946-4ba3-a175-b8ab7606b942",
   "metadata": {},
   "outputs": [],
   "source": [
    "# Good advice about python\n",
    "import this"
   ]
  },
  {
   "cell_type": "code",
   "execution_count": null,
   "id": "70cfece7-e7c3-4970-b4a1-98d605ddd01a",
   "metadata": {},
   "outputs": [],
   "source": [
    "data"
   ]
  },
  {
   "cell_type": "code",
   "execution_count": null,
   "id": "8c84fa4e-fdf2-4bdd-bf53-02a228f53f5c",
   "metadata": {},
   "outputs": [],
   "source": [
    "# data frames have attributes\n",
    "print(data.index)\n",
    "print(data.columns)\n",
    "print(data.shape)"
   ]
  },
  {
   "cell_type": "code",
   "execution_count": null,
   "id": "b9e9fb27-6eaf-42c3-95b4-eccc87b1aa66",
   "metadata": {},
   "outputs": [],
   "source": [
    "# Data frames can tell you about their contents\n",
    "data.info()"
   ]
  },
  {
   "cell_type": "code",
   "execution_count": null,
   "id": "471d9fe8-dc6a-42c8-a28d-63f086d04033",
   "metadata": {},
   "outputs": [],
   "source": [
    "# get descriptive statistics \n",
    "data.describe()"
   ]
  },
  {
   "cell_type": "code",
   "execution_count": null,
   "id": "f7fef5e5-27ab-4a14-a2b2-3faf667fc974",
   "metadata": {},
   "outputs": [],
   "source": [
    "# get the first N rows\n",
    "data.head(1)"
   ]
  },
  {
   "cell_type": "code",
   "execution_count": null,
   "id": "9e915a5b-31c1-48b0-beb5-ddddb963d470",
   "metadata": {},
   "outputs": [],
   "source": [
    "data.T.describe()"
   ]
  },
  {
   "cell_type": "markdown",
   "id": "79e54ea8-1f45-4951-9d07-1efa1d9d42e1",
   "metadata": {},
   "source": [
    "## Subsetting Data"
   ]
  },
  {
   "cell_type": "code",
   "execution_count": null,
   "id": "07601d86-74aa-43e3-93ca-4ef956395211",
   "metadata": {},
   "outputs": [],
   "source": [
    "data = pd.read_csv(\"gapminder_gdp_europe.csv\", index_col = \"country\")"
   ]
  },
  {
   "cell_type": "code",
   "execution_count": null,
   "id": "a98c79fa-c22a-40aa-921b-5dc1bf9d0c26",
   "metadata": {},
   "outputs": [],
   "source": [
    "data.head(3)"
   ]
  },
  {
   "cell_type": "code",
   "execution_count": null,
   "id": "6928fc59-506b-407e-adbf-a4f28126e2ff",
   "metadata": {},
   "outputs": [],
   "source": [
    "#get item by index location: iloc is index location\n",
    "data.iloc[0,0]"
   ]
  },
  {
   "cell_type": "code",
   "execution_count": null,
   "id": "bd7ef99e-d592-40fb-932e-08200d2fd6cc",
   "metadata": {},
   "outputs": [],
   "source": [
    "# Get item by label\n",
    "data.loc[\"Albania\", \"gdpPercap_1952\"]"
   ]
  },
  {
   "cell_type": "markdown",
   "id": "4fac7285-4e65-4150-8c1c-9f8e54a78182",
   "metadata": {},
   "source": [
    "# a brief digression on string methods"
   ]
  },
  {
   "cell_type": "code",
   "execution_count": null,
   "id": "5c1cb6d9-964e-46e1-bd8a-9b7dd1f0a884",
   "metadata": {},
   "outputs": [],
   "source": [
    "# standard python has string methods\n",
    "big_hello = \"hello\".title()\n",
    "print(big_hello)"
   ]
  },
  {
   "cell_type": "code",
   "execution_count": null,
   "id": "ed4318aa-619d-444b-a2da-7dd611b239ba",
   "metadata": {},
   "outputs": [],
   "source": [
    "help(\"hello\".title)"
   ]
  },
  {
   "cell_type": "code",
   "execution_count": null,
   "id": "002128f1-3d5d-4ed8-aa4c-08bfd9b2ec40",
   "metadata": {},
   "outputs": [],
   "source": [
    "print(dir(\"hello\"))"
   ]
  },
  {
   "cell_type": "code",
   "execution_count": null,
   "id": "9212d5ae-8c8d-441e-a3a5-d91e5e686a9f",
   "metadata": {},
   "outputs": [],
   "source": [
    "print(data.columns)"
   ]
  },
  {
   "cell_type": "code",
   "execution_count": null,
   "id": "84955a88-6dad-4dbe-bf4c-3a50630f372d",
   "metadata": {},
   "outputs": [],
   "source": [
    "print(dir(data.columns.str))"
   ]
  },
  {
   "cell_type": "code",
   "execution_count": null,
   "id": "ff202ece-df5e-47bb-a5ff-da1567c18060",
   "metadata": {},
   "outputs": [],
   "source": [
    "# Rewrite column headers to strip off leading text\n",
    "data.columns = data.columns.str.strip(\"gdpPercap_\")"
   ]
  },
  {
   "cell_type": "code",
   "execution_count": null,
   "id": "c654a756-f227-4e9d-981e-9bef47deba72",
   "metadata": {},
   "outputs": [],
   "source": [
    "print(data.columns)"
   ]
  },
  {
   "cell_type": "code",
   "execution_count": null,
   "id": "70aed97b-04bd-4205-8611-9d1799ebefab",
   "metadata": {},
   "outputs": [],
   "source": [
    "data.loc[\"Albania\", \"1952\"]"
   ]
  },
  {
   "cell_type": "code",
   "execution_count": null,
   "id": "de09e224-8000-4bbd-8817-41ea415d7f81",
   "metadata": {},
   "outputs": [],
   "source": [
    " data.loc[\"Italy\":\"Poland\" , \"1962\":\"1972\"]"
   ]
  },
  {
   "cell_type": "code",
   "execution_count": null,
   "id": "12bc3e9f-72a5-437f-b501-1239f766b2e4",
   "metadata": {},
   "outputs": [],
   "source": [
    "subset = data.loc[\"Italy\":\"Poland\" , \"1962\":\"1972\"]"
   ]
  },
  {
   "cell_type": "code",
   "execution_count": null,
   "id": "baa8bb5e-6ced-470f-a06f-fd4ff060b486",
   "metadata": {},
   "outputs": [],
   "source": [
    "# get all the variables for subset of rows\n",
    "data.loc[\"Italy\": \"Poland\", :]"
   ]
  },
  {
   "cell_type": "code",
   "execution_count": null,
   "id": "4d550780-a83e-46b6-b0cf-9569673460e6",
   "metadata": {},
   "outputs": [],
   "source": [
    "subset.describe()"
   ]
  },
  {
   "cell_type": "code",
   "execution_count": null,
   "id": "d0c89689-4d63-453a-a2b7-674c308b9931",
   "metadata": {},
   "outputs": [],
   "source": [
    "subset.max()"
   ]
  },
  {
   "cell_type": "markdown",
   "id": "ec28fa26-0bb2-4440-9661-beb0057c9853",
   "metadata": {},
   "source": [
    "## Challenge \n",
    "1. calculate subset.max and assigen the results to a variable. What kind of thing is it?\n",
    "2. \n",
    "3. Can you calculate the max value of the new thing in 1 step?"
   ]
  },
  {
   "cell_type": "code",
   "execution_count": null,
   "id": "82a8b0cf-2ceb-45ba-a5da-bc78a1b10aa2",
   "metadata": {},
   "outputs": [],
   "source": [
    "#1 calculate subset.max and assigen the results to a variable\n",
    "x = subset.max()\n",
    "print(x)\n",
    "\n",
    "#What kind of thing is it?\n",
    "print(type(subset))\n",
    "print(type(subset_max))"
   ]
  },
  {
   "cell_type": "code",
   "execution_count": null,
   "id": "45f98d73-72d2-4e6a-9e9a-30269aca0051",
   "metadata": {},
   "outputs": [],
   "source": [
    "#2  \n",
    "x.info()"
   ]
  },
  {
   "cell_type": "code",
   "execution_count": null,
   "id": "8624326e-3e7d-46d6-b81c-78a3dd23b23b",
   "metadata": {},
   "outputs": [],
   "source": [
    "x.max()"
   ]
  },
  {
   "cell_type": "code",
   "execution_count": null,
   "id": "4f42b867-cbfe-4cd2-863f-9a2c4838ffac",
   "metadata": {},
   "outputs": [],
   "source": [
    "#3 \n",
    "subset.max().max()"
   ]
  },
  {
   "cell_type": "code",
   "execution_count": null,
   "id": "914024f2-f0c8-4aa6-8e69-8912556399d5",
   "metadata": {},
   "outputs": [],
   "source": [
    "# solution\n",
    "print(\"default max\")\n",
    "print(subset.max())\n",
    "print(\"Max along axis 0\")\n",
    "print(subset.max(axis = 0))\n",
    "print(\"Max along axis 1\")\n",
    "print(subset.max(axis = 1))\n",
    "      "
   ]
  },
  {
   "cell_type": "code",
   "execution_count": null,
   "id": "36b6cd49-676f-4842-9324-08bac9d18986",
   "metadata": {},
   "outputs": [],
   "source": [
    "# Get max for overall dataframe\n",
    "\n",
    "subset.max(axis = None)"
   ]
  },
  {
   "cell_type": "markdown",
   "id": "868f5e0a-f37a-4f92-9799-21d983ff67c1",
   "metadata": {},
   "source": [
    "# Filter data by criterion"
   ]
  },
  {
   "cell_type": "code",
   "execution_count": null,
   "id": "5d19e468-bbc2-471d-b1fc-f1381a1fe19a",
   "metadata": {},
   "outputs": [],
   "source": [
    "subset"
   ]
  },
  {
   "cell_type": "code",
   "execution_count": null,
   "id": "f349376d-5548-4f2c-9e5f-567d1cc0e9bc",
   "metadata": {},
   "outputs": [],
   "source": [
    "# Get GDPs greater than 10,000\n",
    "subset > 10000"
   ]
  },
  {
   "cell_type": "code",
   "execution_count": null,
   "id": "b58998fa-b376-4abb-916b-27c515b4d6f9",
   "metadata": {},
   "outputs": [],
   "source": [
    "# Filter the data frame by the criterion\n",
    "df = subset[subset > 10000]\n",
    "df"
   ]
  },
  {
   "cell_type": "code",
   "execution_count": null,
   "id": "d5bb45b0-1685-48b7-9da1-84de17324544",
   "metadata": {},
   "outputs": [],
   "source": [
    "# get everything above median\n",
    "subset[subset > subset.median(axis=None)]"
   ]
  },
  {
   "cell_type": "markdown",
   "id": "0ba4ce46-770d-4596-9a17-b1f645512fcd",
   "metadata": {},
   "source": [
    "# Working with missing data"
   ]
  },
  {
   "cell_type": "code",
   "execution_count": null,
   "id": "33977043-4c20-493a-9f31-109cdca64f83",
   "metadata": {},
   "outputs": [],
   "source": [
    "# missing data is ignored by default\n",
    "print(\"Column means\")\n",
    "print(df.mean())\n",
    "\n",
    "print(\"Row means\")\n",
    "print(df.mean(axis = 1))"
   ]
  },
  {
   "cell_type": "code",
   "execution_count": null,
   "id": "8fdc6c20-b2d3-4336-ab69-e0cbc57e4224",
   "metadata": {},
   "outputs": [],
   "source": [
    "# check for missing values \n",
    "\n",
    "df.isna()"
   ]
  },
  {
   "cell_type": "code",
   "execution_count": null,
   "id": "3059f315-02b4-4620-ba7e-d81be0c0eaa6",
   "metadata": {},
   "outputs": [],
   "source": [
    "# count our missing values\n",
    "#missing by row\n",
    "\n",
    "df.isna().sum()"
   ]
  },
  {
   "cell_type": "code",
   "execution_count": null,
   "id": "505e6dec-24cd-4ef6-b2c3-93d691041b89",
   "metadata": {},
   "outputs": [],
   "source": [
    "#check total missing values\n",
    "df.isna().sum().sum()"
   ]
  },
  {
   "cell_type": "code",
   "execution_count": null,
   "id": "38cf5833-3d9d-440d-97c6-31319a48029f",
   "metadata": {},
   "outputs": [],
   "source": [
    "# drop missing values\n",
    "\n",
    "df.dropna()"
   ]
  },
  {
   "cell_type": "code",
   "execution_count": null,
   "id": "d6e5cfaa-7967-477c-9924-81a6621d9cc6",
   "metadata": {},
   "outputs": [],
   "source": [
    "# replace missing values with a fixed value\n",
    "df_fixed = df.fillna(99)\n",
    "print(df_fixed)"
   ]
  },
  {
   "cell_type": "code",
   "execution_count": null,
   "id": "852e4bdd-5254-4f1e-9496-bc6c99b1e9a2",
   "metadata": {},
   "outputs": [],
   "source": [
    "# replace missing values with interpolated data\n",
    "df_interpolated = df.interpolate()\n",
    "print(df_interpolated)"
   ]
  },
  {
   "cell_type": "markdown",
   "id": "611a6a63-fe91-4505-af95-6614f438febb",
   "metadata": {},
   "source": [
    "# Challenge: The perils of missing data\n",
    "\n",
    "1. Create an array of random numbers matching the \"data\" dataframe\n",
    "\n",
    "random_filter = np.random.rand(30,12) * data.max(axis = None)\n",
    "\n",
    "2. Create a new data frame that filters out all values lower than the random numbers\n",
    "3. Interpolate new values for missing data in the new data frame. How accurate are they?"
   ]
  },
  {
   "cell_type": "code",
   "execution_count": null,
   "id": "6bc96e7b-3be1-4243-9921-307488813648",
   "metadata": {},
   "outputs": [],
   "source": [
    "#1\n",
    "random_filter = np.random.rand(30,12) *data.max(axis = None)"
   ]
  },
  {
   "cell_type": "code",
   "execution_count": null,
   "id": "ed19fd49-e8dc-47b4-8303-def4f304342f",
   "metadata": {},
   "outputs": [],
   "source": [
    "#2\n",
    "df_new= data [data > random_filter]\n",
    "print(df_new)"
   ]
  },
  {
   "cell_type": "code",
   "execution_count": null,
   "id": "deb9dd94-6a8e-41b8-b61a-809a56304d8b",
   "metadata": {},
   "outputs": [],
   "source": [
    "#3 \n",
    "df_new = df.interpolate()\n",
    "print(df_new)"
   ]
  },
  {
   "cell_type": "code",
   "execution_count": null,
   "id": "7e77fbd6-5328-4504-834e-7fe9b4f2722e",
   "metadata": {},
   "outputs": [],
   "source": [
    "data.describe()"
   ]
  },
  {
   "cell_type": "markdown",
   "id": "2f973127-d53a-4ec2-8a3f-5a32872c64a1",
   "metadata": {},
   "source": [
    "# Sorting and grouping data"
   ]
  },
  {
   "cell_type": "code",
   "execution_count": null,
   "id": "8f6616ff-6408-4517-aa4c-61f44d8997f5",
   "metadata": {},
   "outputs": [],
   "source": [
    "# Z score all of the GDP data points\n",
    "z = (data - data.mean(axis = None))/data.values.std(ddof=1)"
   ]
  },
  {
   "cell_type": "code",
   "execution_count": null,
   "id": "31e7ef7f-1ad1-4268-a6bc-8f3290ccfb19",
   "metadata": {},
   "outputs": [],
   "source": [
    "data.mean(axis= None)"
   ]
  },
  {
   "cell_type": "code",
   "execution_count": null,
   "id": "c28c46a7-9f3f-4053-acd6-a63a2a139a3f",
   "metadata": {},
   "outputs": [],
   "source": [
    "#get mean z score for each country\n",
    "mean_z = z.mean(axis =1)\n",
    "mean_z.sort_values()"
   ]
  },
  {
   "cell_type": "code",
   "execution_count": null,
   "id": "52183bf7-8738-49b5-b61c-fa3f0d99ffcc",
   "metadata": {},
   "outputs": [],
   "source": [
    "bool_z = mean_z > 0\n",
    "bool_z"
   ]
  },
  {
   "cell_type": "code",
   "execution_count": null,
   "id": "c8dc2f71-e3ab-47a4-a499-27e3c4206060",
   "metadata": {},
   "outputs": [],
   "source": [
    "# add new columns to data frame\n",
    "data[\"mean_z\"] = mean_z\n",
    "data[\"wealthy\"] = bool_z"
   ]
  },
  {
   "cell_type": "code",
   "execution_count": null,
   "id": "545baefe-aa4f-440f-96df-ef995dc437ae",
   "metadata": {},
   "outputs": [],
   "source": [
    "data.head(3)"
   ]
  },
  {
   "cell_type": "code",
   "execution_count": null,
   "id": "1dea5075-d20a-4a6d-b72a-eeb7440bc848",
   "metadata": {},
   "outputs": [],
   "source": [
    "# get descriptive statistics for groups\n",
    "data.groupby(\"wealthy\").mean()"
   ]
  },
  {
   "cell_type": "code",
   "execution_count": null,
   "id": "edd0b291-75de-4574-83e6-96e7552ddcce",
   "metadata": {},
   "outputs": [],
   "source": [
    "# get descriptive statistics for each group\n",
    "data.groupby(\"wealthy\").describe()"
   ]
  },
  {
   "cell_type": "code",
   "execution_count": null,
   "id": "b5e4e273-edde-4bf1-956e-663c3473a36d",
   "metadata": {},
   "outputs": [],
   "source": [
    "# Write Output\n",
    "data.to_csv(\"europe_normed.csv\")"
   ]
  },
  {
   "cell_type": "markdown",
   "id": "c1846ab3-811b-4f30-a76d-cf9946c063a6",
   "metadata": {},
   "source": [
    "# Looping over data sets"
   ]
  },
  {
   "cell_type": "code",
   "execution_count": null,
   "id": "f2cc189f-eefb-4f77-81b2-5872dd2eb4ce",
   "metadata": {},
   "outputs": [],
   "source": [
    "import pandas as pd"
   ]
  },
  {
   "cell_type": "code",
   "execution_count": null,
   "id": "2a8f0711-281c-4063-ac39-c6baf8448be6",
   "metadata": {},
   "outputs": [],
   "source": [
    "# automatically get a list of files using the glob library for pattern matching\n",
    "import glob"
   ]
  },
  {
   "cell_type": "code",
   "execution_count": null,
   "id": "bd20a921-d545-4075-9b3e-a15b424961cd",
   "metadata": {},
   "outputs": [],
   "source": [
    "# get all the CSV files\n",
    "glob.glob(\"*.csv\")"
   ]
  },
  {
   "cell_type": "code",
   "execution_count": null,
   "id": "8230851f-2709-42df-914c-786dadaa2561",
   "metadata": {},
   "outputs": [],
   "source": [
    "# get all the CSV or TSV files\n",
    "glob.glob(\"*.?sv\")"
   ]
  },
  {
   "cell_type": "code",
   "execution_count": null,
   "id": "8707580d-4a1a-409f-922c-c60d57945a54",
   "metadata": {},
   "outputs": [],
   "source": [
    "# get a list of all continents\n",
    "glob.glob(\"gapminder_gdp_*.csv\")"
   ]
  },
  {
   "cell_type": "code",
   "execution_count": null,
   "id": "6321b0f3-4e40-4854-ade2-889468edcb59",
   "metadata": {},
   "outputs": [],
   "source": [
    "# get continent-level data and aggregate into 1 data frame\n",
    "data_frames = []\n",
    "\n",
    "for filename in glob.glob(\"gapminder_gdp_*.csv\"):\n",
    "    print(filename)\n",
    "    data = pd.read_csv(filename, index_col = \"country\")\n",
    "    data_frames.append(data)\n",
    "\n",
    "#concatenate data frame\n",
    "all_data= pd.concat(data_frames)\n",
    "\n",
    "    "
   ]
  },
  {
   "cell_type": "code",
   "execution_count": null,
   "id": "fe0a4632-0050-4b8e-b765-3cbbcb8e8e0a",
   "metadata": {},
   "outputs": [],
   "source": [
    "# inspect our results\n",
    "print(all_data.shape)\n",
    "print(all_data.index) # row identifier"
   ]
  },
  {
   "cell_type": "code",
   "execution_count": null,
   "id": "29913690-114b-4d3d-9e68-083bcb12402c",
   "metadata": {},
   "outputs": [],
   "source": [
    "all_data.shape"
   ]
  },
  {
   "cell_type": "markdown",
   "id": "22f67985-3926-4139-8caa-c843e691b2bd",
   "metadata": {},
   "source": [
    "# Conditionals"
   ]
  },
  {
   "cell_type": "code",
   "execution_count": null,
   "id": "62934013-1588-4b78-87ce-d2faa618f888",
   "metadata": {},
   "outputs": [],
   "source": [
    "# does a file end in \"all.csv\"?\n",
    "for filename in glob.glob(\"gapminder*.csv\"):\n",
    "    print(\"Current file:\", filename)\n",
    "    print(filename.endswith(\"all.csv\")) # this evaluates whether value is true or false"
   ]
  },
  {
   "cell_type": "code",
   "execution_count": null,
   "id": "3d6bdc7a-1f9a-437d-b4ab-e7201f41b64a",
   "metadata": {},
   "outputs": [],
   "source": [
    "# get truth value of a statement\n",
    "mass = 3\n",
    "\n",
    "print(mass== 3)\n",
    "print(mass > 5)\n",
    "print(mass < 4)"
   ]
  },
  {
   "cell_type": "code",
   "execution_count": null,
   "id": "50cea387-8433-4574-85ec-1567f6122b0d",
   "metadata": {},
   "outputs": [],
   "source": [
    "# test for membership in a collection\n",
    "primes = [2, 3, 5]\n",
    "print(2 in primes) # is 2 in primes\n",
    "print(7 in primes) # is 7 in primes"
   ]
  },
  {
   "cell_type": "code",
   "execution_count": null,
   "id": "23c3933e-0789-4bf7-a598-2cf43f897d80",
   "metadata": {},
   "outputs": [],
   "source": [
    "# testing for missing values\n",
    "data = pd.read_csv(\"europe_normed.csv\", index_col= \"country\")\n",
    "subset = data.loc[\"Italy\":\"Poland\", \"gdpPercap_1962\":\"gdpPercap_1972\"]\n",
    "df = subset[subset > 10000]"
   ]
  },
  {
   "cell_type": "code",
   "execution_count": null,
   "id": "08f48e02-7a1d-407b-b45d-f53241e2c314",
   "metadata": {},
   "outputs": [],
   "source": [
    "df"
   ]
  },
  {
   "cell_type": "code",
   "execution_count": null,
   "id": "d7550477-a1e6-4374-bb7f-107c06115564",
   "metadata": {},
   "outputs": [],
   "source": [
    "# which values are missing?\n",
    "df.isna()"
   ]
  },
  {
   "cell_type": "code",
   "execution_count": null,
   "id": "449026a1-952a-410f-9a11-c78f1685585b",
   "metadata": {},
   "outputs": [],
   "source": [
    "# are any values missing?\n",
    "df.isna().any().any()"
   ]
  },
  {
   "cell_type": "code",
   "execution_count": null,
   "id": "8658e0c4-3394-47a4-84e0-0448782f317f",
   "metadata": {},
   "outputs": [],
   "source": [
    "# make choices with if - then statement\n",
    "mass = 2.0\n",
    "\n",
    "if mass > 3.0: \n",
    "    print(mass, \"is large\")"
   ]
  },
  {
   "cell_type": "code",
   "execution_count": null,
   "id": "757f339f-ed78-428e-a7bd-39b91398acc1",
   "metadata": {},
   "outputs": [],
   "source": [
    "# test for files ending in \"all.csv\"\n",
    "data_frames = []\n",
    "\n",
    "for filename in glob.glob(\"gapminder*.csv\"):\n",
    "    print(filename)\n",
    "    if not filename.endswith(\"all.csv\"):\n",
    "        print(\"Passes test:\", filename)\n",
    "        data = pd.read_csv(filename, index_col =\"country\")\n",
    "        data_frames.append(data)\n",
    "\n",
    "all_data = pd.concat(data_frames)\n",
    "print(all_data.shape)"
   ]
  },
  {
   "cell_type": "code",
   "execution_count": null,
   "id": "80cfea64-13b9-44a8-8126-74fa677db471",
   "metadata": {},
   "outputs": [],
   "source": [
    "# add an else condition\n",
    "mass = 3.5\n",
    "if mass > 3.0:\n",
    "    print(mass, \"is large\")\n",
    "else:\n",
    "    print(mass, \"is small\")"
   ]
  },
  {
   "cell_type": "code",
   "execution_count": null,
   "id": "7c91f90a-f53f-416a-997d-91e3ce69e83f",
   "metadata": {},
   "outputs": [],
   "source": [
    "data_frames = []\n",
    "\n",
    "for filename in glob.glob(\"gapminder*.csv\"):\n",
    "    if filename.endswith(\"all.csv\"):\n",
    "        print(\"I dont want it!\")\n",
    "    else: \n",
    "        print(\"passes test\", filename)\n",
    "        data = pd.read_csv(filename, index_col= \"country\")\n",
    "        data_frames.append(data)\n",
    "\n",
    "all_data= pd.concat(data_frames)\n",
    "print(all_data.shape)"
   ]
  },
  {
   "cell_type": "markdown",
   "id": "855bdae6-483d-4737-9500-cf690e1e3471",
   "metadata": {},
   "source": [
    "## Challenge 1\n",
    "1. Iterate through all the CSV files in the directory\n",
    "2. print the name and length (number of rows) of any files less than 30 rows longs"
   ]
  },
  {
   "cell_type": "markdown",
   "id": "f1606164-7df5-48e8-ab76-7a30c6c38414",
   "metadata": {},
   "source": [
    "# Challenge 2\n",
    "1. Iterate through all the CSV files in the directory\n",
    "2. Print any file name that includes \"europe\", then print the column names for that file"
   ]
  },
  {
   "cell_type": "code",
   "execution_count": null,
   "id": "8690b826-c5dd-422c-abb3-e2075103cb63",
   "metadata": {},
   "outputs": [],
   "source": [
    "# challenge 1, Q1\n",
    "data_frames=[]\n",
    "\n",
    "for filename in glob.glob(\"*.csv\"):\n",
    "    data = pd.read_csv(filename)\n",
    "    if data.shape[0] < 30:\n",
    "        print(filename, data.shape[0])\n",
    "        \n",
    "    rows = len(filename)\n",
    "    if rows < 30:\n",
    "        print(filename, rows)\n"
   ]
  },
  {
   "cell_type": "code",
   "execution_count": null,
   "id": "e39fb837-e56c-4692-85a2-577d9b4fd078",
   "metadata": {},
   "outputs": [],
   "source": [
    "# challenge 1, Q2\n",
    "\n",
    "for filename in glob.glob(\"*.csv\"):\n",
    "\n",
    "    if \"europe\" in filename:\n",
    "        print(filename)\n",
    "        data = pd.read_csv(filename)\n",
    "        print(data.columns)"
   ]
  },
  {
   "cell_type": "code",
   "execution_count": null,
   "id": "a8489b1f-6b9a-4547-b33e-0e440ac9d4c4",
   "metadata": {},
   "outputs": [],
   "source": [
    "# you can specify additional tests with elif \"else if\"\n",
    "mass = 1\n",
    "\n",
    "if mass > 9.0:\n",
    "    print(mass, \"is huge\")\n",
    "\n",
    "elif mass > 3.0:\n",
    "    print(mass, \"is large\")\n",
    "\n",
    "else:\n",
    "    print(mass, \"is small\")"
   ]
  },
  {
   "cell_type": "code",
   "execution_count": null,
   "id": "98099565-b1b9-4e89-9370-cb8b51a3ce16",
   "metadata": {},
   "outputs": [],
   "source": [
    "# you can do more complicated tests\n",
    "\n",
    "mass = [1,2,3,4,5]\n",
    "velocity = [5,4,3,2,5]\n",
    "\n",
    "\n",
    "# get each pair of measurements\n",
    "for m, v in zip(mass, velocity):\n",
    "    if m <= 3 and v<= 3:\n",
    "        print(\"small and slow\")\n",
    "    elif m<= 3 and v >3:\n",
    "        print(\"small and fast\")\n",
    "    elif m > 3 and v<= 3:\n",
    "        print(\"large and slow\")\n",
    "    else:\n",
    "        print(\"check data\")"
   ]
  },
  {
   "cell_type": "markdown",
   "id": "40595502-5c75-42f4-81b5-bb504ec3f96a",
   "metadata": {},
   "source": [
    "# Functions"
   ]
  },
  {
   "cell_type": "code",
   "execution_count": null,
   "id": "19d7600d-b2bb-46d5-b265-5b857000f052",
   "metadata": {},
   "outputs": [],
   "source": [
    "def print_greeting():\n",
    "    print(\"Hello!\")"
   ]
  },
  {
   "cell_type": "code",
   "execution_count": null,
   "id": "7de69c11-ad43-478b-944a-c3bcc32e368b",
   "metadata": {},
   "outputs": [],
   "source": [
    "print_greeting()"
   ]
  },
  {
   "cell_type": "code",
   "execution_count": null,
   "id": "59dd3b03-735f-43f9-b428-839310eb4bf1",
   "metadata": {},
   "outputs": [],
   "source": [
    "# Functions take arguments\n",
    "def print_date(year, month, day):\n",
    "    joined_date = \"/\".join([str(year), str(month), str(day)])\n",
    "    print(joined_date)"
   ]
  },
  {
   "cell_type": "code",
   "execution_count": null,
   "id": "7eaea9d6-a82d-4130-ae04-8ef568c7d42d",
   "metadata": {},
   "outputs": [],
   "source": [
    "print_date(\"1872\",\"3\",\"9\")\n",
    "print_date(1872, 3, 9)"
   ]
  },
  {
   "cell_type": "code",
   "execution_count": null,
   "id": "76252cb9-3cdf-4a6b-9a32-993779566e75",
   "metadata": {},
   "outputs": [],
   "source": [
    "# test your data inside your function\n",
    "def average(values):\n",
    "    \"\"\" Return average of values, or None if no values are supplied.\"\"\"\n",
    "    if len(values) == 0:\n",
    "        return None \n",
    "    else:\n",
    "        return sum(values) / len(values)"
   ]
  },
  {
   "cell_type": "code",
   "execution_count": null,
   "id": "dc26b9e4-ebf7-4bb0-8e6e-d1f7f40819c3",
   "metadata": {},
   "outputs": [],
   "source": [
    "a1= average([1, 2, 3])\n",
    "print(a1)"
   ]
  },
  {
   "cell_type": "code",
   "execution_count": null,
   "id": "40024dba-d2b1-4444-ac84-53039b9fa08d",
   "metadata": {},
   "outputs": [],
   "source": [
    "a2 = average([])\n",
    "print(a2)"
   ]
  },
  {
   "cell_type": "code",
   "execution_count": null,
   "id": "49b36067-b4ef-4e44-a4e5-472bf6b699fb",
   "metadata": {},
   "outputs": [],
   "source": [
    "#a3 = average (3)\n",
    "#print(a3)"
   ]
  },
  {
   "cell_type": "markdown",
   "id": "a23b6387-041c-4b48-b456-bffdbfa89be3",
   "metadata": {},
   "source": [
    "## Challenge\n",
    "Write a function that encapsulates z-score calculation. Your function should do the following:\n",
    "\n",
    "1. read csv file into a dataframe\n",
    "2. calculate the z score for each country\n",
    "3. calculate the mean z score for each country\n",
    "4. append the mean z score as a new column\n",
    "5. return the data frame"
   ]
  },
  {
   "cell_type": "code",
   "execution_count": null,
   "id": "28ff056a-100d-4a69-abf4-37a97b7ba342",
   "metadata": {},
   "outputs": [],
   "source": [
    "print(pd.__version__)"
   ]
  },
  {
   "cell_type": "code",
   "execution_count": null,
   "id": "afa9d101-372b-4e54-9173-bd98b8124128",
   "metadata": {},
   "outputs": [],
   "source": [
    "#calculate overall mean and std\n",
    "overall_mean = data.values.mean()\n",
    "overal_std = data.values.std()"
   ]
  },
  {
   "cell_type": "code",
   "execution_count": null,
   "id": "0d52d86a-b89a-4153-bb5f-4e1862750a30",
   "metadata": {},
   "outputs": [],
   "source": [
    "def norm_data(filename, index_col=None):\n",
    "    \"\"\" Add a Z score to a data frame.\"\"\"\n",
    "\n",
    "    # Import the data\n",
    "    data = pd.read_csv(filename, index_col = index_col)\n",
    "\n",
    "    # Drop continent column if necessary. This returns a new data frame.\n",
    "    if \"continent\" in data.columns:\n",
    "        data= data.drop(\"continent\", axis=1)\n",
    "    \n",
    "    # Calculate individual z scores\n",
    "    z = (data- data.values.mean()) / data.values.std()\n",
    "\n",
    "    # Mean z score for each country\n",
    "    mean_z = z.mean(axis=1)\n",
    "\n",
    "    # Add new column to data frame\n",
    "    data[\"mean_z\"] = mean_z\n",
    "\n",
    "    return data"
   ]
  },
  {
   "cell_type": "code",
   "execution_count": null,
   "id": "12a440d1-673d-4383-922a-738ad209f98b",
   "metadata": {},
   "outputs": [],
   "source": [
    "df = norm_data(\"gapminder_gdp_europe.csv\", index_col = \"country\")\n",
    "print(df.columns)"
   ]
  },
  {
   "cell_type": "markdown",
   "id": "e4b51dfc-e048-4916-83ad-c225e2f6decb",
   "metadata": {},
   "source": [
    "# Putting it all together"
   ]
  },
  {
   "cell_type": "code",
   "execution_count": null,
   "id": "3600601b-286a-433a-94a6-ac7f50ebab46",
   "metadata": {},
   "outputs": [],
   "source": [
    "#getting all the files we care about and get total z scores by continent\n",
    "data_frames= []\n",
    "\n",
    "for filename in glob.glob(\"gapminder*.csv\"):\n",
    "    if not filename.endswith(\"all.csv\"):\n",
    "        df = norm_data(filename, index_col = \"country\")\n",
    "        data_frames.append(df)\n",
    "\n",
    "all_data= pd.concat(data_frames)\n",
    "\n",
    "print(all_data.shape)\n",
    "print(all_data.columns)"
   ]
  },
  {
   "cell_type": "code",
   "execution_count": null,
   "id": "c35cd6e3-7130-4746-9f95-93d4a8d2cf00",
   "metadata": {},
   "outputs": [],
   "source": []
  }
 ],
 "metadata": {
  "kernelspec": {
   "display_name": "Python 3 (ipykernel)",
   "language": "python",
   "name": "python3"
  },
  "language_info": {
   "codemirror_mode": {
    "name": "ipython",
    "version": 3
   },
   "file_extension": ".py",
   "mimetype": "text/x-python",
   "name": "python",
   "nbconvert_exporter": "python",
   "pygments_lexer": "ipython3",
   "version": "3.12.4"
  }
 },
 "nbformat": 4,
 "nbformat_minor": 5
}
