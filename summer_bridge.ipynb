{
 "cells": [
  {
   "cell_type": "code",
   "execution_count": null,
   "id": "f3351457-4072-4111-81cb-a6817d301973",
   "metadata": {},
   "outputs": [],
   "source": [
    "3 + 7"
   ]
  },
  {
   "cell_type": "code",
   "execution_count": null,
   "id": "d96c584c-3608-4d62-8ea7-4d3f8c4a6a27",
   "metadata": {},
   "outputs": [],
   "source": [
    "print (\"hello\")"
   ]
  },
  {
   "cell_type": "code",
   "execution_count": null,
   "id": "d9434419-2ee1-4797-be4d-9bb473c3250e",
   "metadata": {},
   "outputs": [],
   "source": [
    "print (\"7\")"
   ]
  },
  {
   "cell_type": "code",
   "execution_count": null,
   "id": "20010b81-af9f-438f-98f6-2e75493527a3",
   "metadata": {},
   "outputs": [],
   "source": [
    "name  = \"melisa\""
   ]
  },
  {
   "cell_type": "code",
   "execution_count": null,
   "id": "24ba8c52-143c-4e62-aa6f-0d895b78bc93",
   "metadata": {},
   "outputs": [],
   "source": [
    "name = \"Melisa\"\n",
    "age = 25\n",
    "print (age)"
   ]
  },
  {
   "cell_type": "code",
   "execution_count": null,
   "id": "93ab1438-0c01-4758-a011-54f43e75423a",
   "metadata": {},
   "outputs": [],
   "source": [
    "# this is a comment. It will not run\n",
    "# You can echo values without using print in this notebook\n",
    "name"
   ]
  },
  {
   "cell_type": "code",
   "execution_count": null,
   "id": "667c9129-50fb-4ba7-aa78-fdeaf79f0d54",
   "metadata": {},
   "outputs": [],
   "source": [
    "'Melisa'"
   ]
  },
  {
   "cell_type": "markdown",
   "id": "ab3fe233-0f3f-4a7f-8f28-96baec1f597c",
   "metadata": {},
   "source": [
    "# Variables and Values"
   ]
  },
  {
   "cell_type": "code",
   "execution_count": null,
   "id": "e18906dd-04ac-4b89-a242-ec4dca57b8e1",
   "metadata": {},
   "outputs": [],
   "source": [
    "# variables can be used in calculations\n",
    "print(age)\n",
    "age = age + 3\n",
    "print(age)"
   ]
  },
  {
   "cell_type": "code",
   "execution_count": null,
   "id": "bb9f85e2-878d-40f5-9d76-25d4dc94da86",
   "metadata": {},
   "outputs": [],
   "source": [
    "# order of operations matters\n",
    "first = 1\n",
    "second = first * 5\n",
    "first = 2\n",
    "\n",
    "print(first)\n",
    "print(second)"
   ]
  },
  {
   "cell_type": "code",
   "execution_count": null,
   "id": "6fb899aa-0f7c-4356-b153-0e2d9cf40d2a",
   "metadata": {},
   "outputs": [],
   "source": [
    "# Values have types. Types affect what you can do with them.\n",
    "print (5 - 3)\n",
    "print (\"hello - h\")"
   ]
  },
  {
   "cell_type": "code",
   "execution_count": null,
   "id": "e1de06f6-0d8a-47e1-9fde-18ea793662ec",
   "metadata": {},
   "outputs": [],
   "source": [
    "print(len(\"hello\"))\n",
    "# print(len(6))"
   ]
  },
  {
   "cell_type": "code",
   "execution_count": null,
   "id": "b658fe0e-b795-4517-a91b-4cc8c73fc2c8",
   "metadata": {},
   "outputs": [],
   "source": [
    "# Challenge\n",
    "#print(5//3) ---> how many times does 3 go into 5 (only 1)\n",
    "#print(5/3)  ---> does regular division, includes remainder\n",
    "#print(5%3)  ---> only gives remainder"
   ]
  },
  {
   "cell_type": "code",
   "execution_count": null,
   "id": "202262ef-6f42-426b-bdfd-fc32c1e7f832",
   "metadata": {},
   "outputs": [],
   "source": [
    "print(5//3) \n",
    "print(5/3) \n",
    "print(5%3) "
   ]
  },
  {
   "cell_type": "markdown",
   "id": "77f56f03-8d97-4824-bc05-c16e7628eac1",
   "metadata": {},
   "source": [
    "# Getting Help"
   ]
  },
  {
   "cell_type": "code",
   "execution_count": null,
   "id": "7572c6d5-37e9-4af4-97d2-8413bbce263b",
   "metadata": {},
   "outputs": [],
   "source": [
    "# rounding numbers is built in but rounds to integer \n",
    "#unless you include a comma and integer representing place value\n",
    "round (3.14159)"
   ]
  },
  {
   "cell_type": "code",
   "execution_count": null,
   "id": "2c2d67e6-003b-44d6-806f-b93157e616b6",
   "metadata": {},
   "outputs": [],
   "source": [
    "round (3.14159, 2)"
   ]
  },
  {
   "cell_type": "code",
   "execution_count": null,
   "id": "c58aeee7-e6b0-4359-ba63-92e832cc9c4d",
   "metadata": {},
   "outputs": [],
   "source": [
    "help (round)"
   ]
  },
  {
   "cell_type": "code",
   "execution_count": null,
   "id": "ba929eeb-3151-44d0-bc28-29544c82f9fe",
   "metadata": {},
   "outputs": [],
   "source": [
    "round (3.14159, ndigits=2)"
   ]
  },
  {
   "cell_type": "code",
   "execution_count": null,
   "id": "f058b1af-ce60-43e3-b326-fbdab030b8f0",
   "metadata": {},
   "outputs": [],
   "source": [
    "# All functions return a new value\n",
    "rounded_pi = round (3.14159, 2)\n",
    "print(rounded_pi)"
   ]
  },
  {
   "cell_type": "markdown",
   "id": "7e31b7e6-8bfc-490d-affe-641a6a27e2b4",
   "metadata": {},
   "source": [
    "## Challenge \n",
    "In what order do the operations happen?\n",
    "\n",
    "radiance = 1.0\n",
    "\n",
    "radiance = max(2.1, 2.0, + min(radiance, 1.1*radiance-0.5)\n",
    "\n",
    "*functions work from the inside out"
   ]
  },
  {
   "cell_type": "code",
   "execution_count": null,
   "id": "5e7b058c-a5b0-4a6b-be26-0b9550176b78",
   "metadata": {},
   "outputs": [],
   "source": [
    "radiance = 1.0\n",
    "\n",
    "radiance = max(2.1, 2.0 + min(radiance, 1.1 * radiance - 0.5))\n",
    "print(radiance)"
   ]
  },
  {
   "cell_type": "code",
   "execution_count": null,
   "id": "a2ce5ec0-ed0e-4cfe-a5c5-ac51dcb0548c",
   "metadata": {},
   "outputs": [],
   "source": [
    "#break down these operations\n",
    "radiance = 1.0 \n",
    "\n",
    "min_agr_2= 1.1 * radiance - 0.5\n",
    "print(\"Min_agr_2\", min_agr_2)\n",
    "\n",
    "min_result = min(radiance, min_agr_2)\n",
    "print (\"Min_result\", min_result)\n",
    "\n",
    "radiance = max( 2.1, 2.0 + min_result)\n",
    "print(\"Radiance\", radiance)"
   ]
  },
  {
   "cell_type": "code",
   "execution_count": null,
   "id": "d00ae133-12ce-430c-b5a6-9d9b17e1a10b",
   "metadata": {},
   "outputs": [],
   "source": []
  }
 ],
 "metadata": {
  "kernelspec": {
   "display_name": "Python 3 (ipykernel)",
   "language": "python",
   "name": "python3"
  },
  "language_info": {
   "codemirror_mode": {
    "name": "ipython",
    "version": 3
   },
   "file_extension": ".py",
   "mimetype": "text/x-python",
   "name": "python",
   "nbconvert_exporter": "python",
   "pygments_lexer": "ipython3",
   "version": "3.12.4"
  }
 },
 "nbformat": 4,
 "nbformat_minor": 5
}
